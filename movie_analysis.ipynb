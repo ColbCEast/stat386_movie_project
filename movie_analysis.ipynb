{
 "cells": [
  {
   "cell_type": "markdown",
   "metadata": {},
   "source": [
    "# **Movie Data Analysis**"
   ]
  },
  {
   "cell_type": "markdown",
   "metadata": {},
   "source": [
    "**Import Packages**"
   ]
  },
  {
   "cell_type": "code",
   "execution_count": 210,
   "metadata": {},
   "outputs": [],
   "source": [
    "import requests\n",
    "import re\n",
    "from bs4 import BeautifulSoup\n",
    "import pandas as pd\n",
    "import numpy as np"
   ]
  },
  {
   "cell_type": "markdown",
   "metadata": {},
   "source": [
    "**Pull Rotten Tomatoes Data**"
   ]
  },
  {
   "cell_type": "code",
   "execution_count": 211,
   "metadata": {},
   "outputs": [],
   "source": [
    "url1 = 'https://www.rottentomatoes.com/franchise/marvel_cinematic_universe'\n",
    "request1 = requests.get(url1)\n",
    "bs1 = BeautifulSoup(request1.content)"
   ]
  },
  {
   "cell_type": "markdown",
   "metadata": {},
   "source": [
    "**Pull Wikipedia Data**"
   ]
  },
  {
   "cell_type": "code",
   "execution_count": 212,
   "metadata": {},
   "outputs": [],
   "source": [
    "url2 = 'https://en.m.wikipedia.org/wiki/List_of_films_based_on_Marvel_Comics_publications'\n",
    "tables = pd.read_html(url2)"
   ]
  },
  {
   "cell_type": "markdown",
   "metadata": {},
   "source": [
    "**Make Rotten Tomatoes Dataframe**"
   ]
  },
  {
   "cell_type": "code",
   "execution_count": null,
   "metadata": {},
   "outputs": [],
   "source": [
    "# Make Dataframe\n",
    "movie_info = pd.DataFrame()\n",
    "\n",
    "# Get Titles\n",
    "titles = bs1.find_all('a', {'data-qa': 'franchise-media-link'})\n",
    "\n",
    "# Extract the text from the links\n",
    "title = [movie.get_text(strip=True) for movie in titles]\n",
    "\n",
    "# Add title to Dataframe\n",
    "movie_info['title'] = title"
   ]
  },
  {
   "cell_type": "code",
   "execution_count": 214,
   "metadata": {},
   "outputs": [],
   "source": [
    "# Get Years\n",
    "years = bs1.find_all('span', {'data-qa': 'franchise-media-year'})\n",
    "\n",
    "# Extract the years and handle date ranges\n",
    "def clean_year(year_text):\n",
    "    # Remove parentheses and strip whitespace\n",
    "    clean_text = year_text.strip('()').strip()\n",
    "    \n",
    "    # If it's a range or contains 'Present', take the first year\n",
    "    if '-' in clean_text or 'Present' in clean_text:\n",
    "        return int(clean_text.split('-')[0])\n",
    "    \n",
    "    # For standard single years\n",
    "    return int(clean_text)\n",
    "\n",
    "# Create the list of years\n",
    "year = [clean_year(movie.get_text(strip=True)) for movie in years]\n",
    "\n",
    "# Add year to dataframe\n",
    "movie_info['year'] = year"
   ]
  },
  {
   "cell_type": "code",
   "execution_count": 215,
   "metadata": {},
   "outputs": [],
   "source": [
    "# Get Director\n",
    "\n",
    "\n",
    "# Add director to dataframe\n",
    "# movie_info['director'] = directors"
   ]
  },
  {
   "cell_type": "code",
   "execution_count": 216,
   "metadata": {},
   "outputs": [],
   "source": [
    "# Get tomato meter score\n",
    "\n",
    "# Add critic rating to dataframe\n",
    "# movie_info['critic_rating'] = tomato_scores"
   ]
  },
  {
   "cell_type": "code",
   "execution_count": 217,
   "metadata": {},
   "outputs": [],
   "source": [
    "# Get popcorn meter score\n",
    "\n",
    "# Add user rating to dataframe\n",
    "# movie_info['user_rating'] = popcorn_scores"
   ]
  },
  {
   "cell_type": "markdown",
   "metadata": {},
   "source": [
    "**Make Wikipedia Dataframe**"
   ]
  },
  {
   "cell_type": "code",
   "execution_count": 220,
   "metadata": {},
   "outputs": [],
   "source": [
    "# Get Box office table\n",
    "box_office = tables[14]\n",
    "\n",
    "# Drop messy heading using\n",
    "box_office.columns = box_office.columns.droplevel(0)\n",
    "\n",
    "# Rename columns\n",
    "new_names = ['title', 'distributor', 'release_date_us', 'budget', 'rev_opening_weekend_NA', 'rev_NA', 'rev_not_NA', 'rev_worldwide']\n",
    "box_office.columns = new_names\n"
   ]
  },
  {
   "cell_type": "markdown",
   "metadata": {},
   "source": [
    "**Join the Two Tables**"
   ]
  },
  {
   "cell_type": "code",
   "execution_count": 221,
   "metadata": {},
   "outputs": [],
   "source": [
    "# Join on title column\n",
    "movie_final = pd.merge(movie_info, box_office, on='title', how='inner')"
   ]
  }
 ],
 "metadata": {
  "kernelspec": {
   "display_name": "stat386",
   "language": "python",
   "name": "python3"
  },
  "language_info": {
   "codemirror_mode": {
    "name": "ipython",
    "version": 3
   },
   "file_extension": ".py",
   "mimetype": "text/x-python",
   "name": "python",
   "nbconvert_exporter": "python",
   "pygments_lexer": "ipython3",
   "version": "3.11.9"
  }
 },
 "nbformat": 4,
 "nbformat_minor": 2
}
